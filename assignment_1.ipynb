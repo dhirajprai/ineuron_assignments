{
 "cells": [
  {
   "cell_type": "code",
   "execution_count": 28,
   "metadata": {},
   "outputs": [],
   "source": [
    "import numpy as np\n",
    "import math"
   ]
  },
  {
   "cell_type": "markdown",
   "metadata": {},
   "source": [
    "## Question 1"
   ]
  },
  {
   "cell_type": "code",
   "execution_count": 44,
   "metadata": {},
   "outputs": [
    {
     "data": {
      "text/plain": [
       "array([2002, 2009, 2016, 2023, 2030, 2037, 2044, 2051, 2058, 2065, 2072,\n",
       "       2079, 2086, 2093, 2100, 2107, 2114, 2121, 2128, 2135, 2142, 2149,\n",
       "       2156, 2163, 2170, 2177, 2184, 2191, 2198, 2205, 2212, 2219, 2226,\n",
       "       2233, 2240, 2247, 2254, 2261, 2268, 2275, 2282, 2289, 2296, 2303,\n",
       "       2310, 2317, 2324, 2331, 2338, 2345, 2352, 2359, 2366, 2373, 2380,\n",
       "       2387, 2394, 2401, 2408, 2415, 2422, 2429, 2436, 2443, 2450, 2457,\n",
       "       2464, 2471, 2478, 2485, 2492, 2499, 2506, 2513, 2520, 2527, 2534,\n",
       "       2541, 2548, 2555, 2562, 2569, 2576, 2583, 2590, 2597, 2604, 2611,\n",
       "       2618, 2625, 2632, 2639, 2646, 2653, 2660, 2667, 2674, 2681, 2688,\n",
       "       2695, 2702, 2709, 2716, 2723, 2730, 2737, 2744, 2751, 2758, 2765,\n",
       "       2772, 2779, 2786, 2793, 2800, 2807, 2814, 2821, 2828, 2835, 2842,\n",
       "       2849, 2856, 2863, 2870, 2877, 2884, 2891, 2898, 2905, 2912, 2919,\n",
       "       2926, 2933, 2940, 2947, 2954, 2961, 2968, 2975, 2982, 2989, 2996,\n",
       "       3003, 3010, 3017, 3024, 3031, 3038, 3045, 3052, 3059, 3066, 3073,\n",
       "       3080, 3087, 3094, 3101, 3108, 3115, 3122, 3129, 3136, 3143, 3150,\n",
       "       3157, 3164, 3171, 3178, 3185, 3192, 3199])"
      ]
     },
     "execution_count": 44,
     "metadata": {},
     "output_type": "execute_result"
    }
   ],
   "source": [
    "arr=np.arange(2000,3201)\n",
    "\n",
    "arr=arr[arr%7==0]\n",
    "\n",
    "arr[arr%5!=0]\n",
    "arr"
   ]
  },
  {
   "cell_type": "markdown",
   "metadata": {},
   "source": [
    "## Question 2"
   ]
  },
  {
   "cell_type": "code",
   "execution_count": 47,
   "metadata": {},
   "outputs": [
    {
     "name": "stdout",
     "output_type": "stream",
     "text": [
      "Enter first name:Dhiraj\n",
      "Enter last name:Kalal\n"
     ]
    },
    {
     "data": {
      "text/plain": [
       "'lalaK jarihD'"
      ]
     },
     "execution_count": 47,
     "metadata": {},
     "output_type": "execute_result"
    }
   ],
   "source": [
    "firstname=str(input('Enter first name:'))\n",
    "lastname=str(input('Enter last name:'))\n",
    "\n",
    "name=firstname+' '+lasttname\n",
    "\n",
    "rev_name=name[::-1]\n",
    "rev_name"
   ]
  },
  {
   "cell_type": "markdown",
   "metadata": {},
   "source": [
    "## Question 3"
   ]
  },
  {
   "cell_type": "code",
   "execution_count": 49,
   "metadata": {},
   "outputs": [
    {
     "name": "stdout",
     "output_type": "stream",
     "text": [
      "Enter the diameter of sphere:12\n"
     ]
    },
    {
     "data": {
      "text/plain": [
       "150.79644737231007"
      ]
     },
     "execution_count": 49,
     "metadata": {},
     "output_type": "execute_result"
    }
   ],
   "source": [
    "diameter=float(input('Enter the diameter of sphere:'))\n",
    "\n",
    "radius=0.5*diameter\n",
    "radius\n",
    "\n",
    "volume=float(4/3)*math.pi*radius**2\n",
    "\n",
    "volume"
   ]
  },
  {
   "cell_type": "code",
   "execution_count": null,
   "metadata": {},
   "outputs": [],
   "source": []
  }
 ],
 "metadata": {
  "kernelspec": {
   "display_name": "Python 3",
   "language": "python",
   "name": "python3"
  },
  "language_info": {
   "codemirror_mode": {
    "name": "ipython",
    "version": 3
   },
   "file_extension": ".py",
   "mimetype": "text/x-python",
   "name": "python",
   "nbconvert_exporter": "python",
   "pygments_lexer": "ipython3",
   "version": "3.6.5"
  }
 },
 "nbformat": 4,
 "nbformat_minor": 4
}
